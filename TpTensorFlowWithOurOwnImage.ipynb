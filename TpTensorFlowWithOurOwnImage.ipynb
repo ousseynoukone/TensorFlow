{
 "cells": [
  {
   "cell_type": "code",
   "execution_count": 5,
   "id": "c099c72a-8e43-46f9-aa28-df7375a14c67",
   "metadata": {},
   "outputs": [
    {
     "name": "stdout",
     "output_type": "stream",
     "text": [
      "done\n"
     ]
    }
   ],
   "source": [
    "import numpy as np\n",
    "import matplotlib.pyplot as plt\n",
    "from tensorflow.keras.datasets import mnist\n",
    "from sklearn.ensemble import RandomForestClassifier\n",
    "from sklearn.metrics import accuracy_score, ConfusionMatrixDisplay, confusion_matrix\n",
    "from PIL import Image\n",
    "from sklearn.neighbors import KNeighborsClassifier\n",
    "\n",
    "# Charger le jeu de données MNIST pour entraîner le modèle\n",
    "(x_train, y_train), (x_test, y_test) = mnist.load_data()\n",
    "\n",
    "# Aplatir x_train en une seule dimension pour le modèle RandomForest\n",
    "x_train_flat = x_train.reshape(x_train.shape[0], -1)\n",
    "x_test_flat = x_test.reshape(x_test.shape[0], -1)\n",
    "\n",
    "# Créer et entraîner le modèle RandomForest\n",
    "rf_model = RandomForestClassifier(n_estimators=100, random_state=42)\n",
    "rf_model.fit(x_train_flat, y_train)\n",
    "print(\"done\")\n"
   ]
  },
  {
   "cell_type": "code",
   "execution_count": 9,
   "id": "ae46d455-af9e-4a3c-aff8-4396f8cdb83b",
   "metadata": {},
   "outputs": [
    {
     "name": "stdout",
     "output_type": "stream",
     "text": [
      "0.9705\n"
     ]
    },
    {
     "data": {
      "image/png": "[encoded data removed]",
      "text/plain": [
       "<Figure size 640x480 with 1 Axes>"
      ]
     },
     "metadata": {},
     "output_type": "display_data"
    }
   ],
   "source": [
    "# Charger une image depuis l'ordinateur\n",
    "# Remplacez \"chemin/vers/image.png\" par le chemin réel de votre image\n",
    "image_path = \"height.png\"\n",
    "img = Image.open(image_path).convert('L')  # Convertir en niveaux de gris\n",
    "img = img.resize((28, 28))  # Redimensionner l'image à 28x28 pixels\n",
    "img_array = np.array(img).reshape(1, -1)  # Aplatir l'image pour qu'elle corresponde aux données d'entrée\n",
    "\n",
    "# Prédire le label pour l'image importée\n",
    "predicted_label = rf_model.predict(img_array)[0]\n",
    "\n",
    "print(rf_model.score(x_test_flat, y_test))\n",
    "\n",
    "# Afficher l'image et la prédiction\n",
    "plt.imshow(img, cmap='gray')\n",
    "plt.title(f\"Prédiction: {predicted_label}\")\n",
    "plt.axis('off')\n",
    "plt.show()"
   ]
  },
  {
   "cell_type": "code",
   "execution_count": null,
   "id": "49b24500-3953-43c4-90ff-69663ac1ed3c",
   "metadata": {},
   "outputs": [],
   "source": []
  }
 ],
 "metadata": {
  "kernelspec": {
   "display_name": "Python 3 (ipykernel)",
   "language": "python",
   "name": "python3"
  },
  "language_info": {
   "codemirror_mode": {
    "name": "ipython",
    "version": 3
   },
   "file_extension": ".py",
   "mimetype": "text/x-python",
   "name": "python",
   "nbconvert_exporter": "python",
   "pygments_lexer": "ipython3",
   "version": "3.12.7"
  }
 },
 "nbformat": 4,
 "nbformat_minor": 5
}
